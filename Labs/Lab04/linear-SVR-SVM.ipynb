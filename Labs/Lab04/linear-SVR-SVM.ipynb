{
  "cells": [
    {
      "cell_type": "markdown",
      "metadata": {},
      "source": [
        "# Support Vector Regression (SVR) Hands-on Exercise\n",
        "\n",
        "In this exercise, we will implement and train a Support Vector Regression model using JAX and evaluate its performance on synthetic data. We will go through the steps of data generation, model training, and evaluation.\n",
        "\n",
        "### Objectives\n",
        "\n",
        "- Generate synthetic data for regression\n",
        "- Implement SVR using JAX\n",
        "- Train the SVR model\n",
        "- Evaluate the model's performance\n",
        "- Visualize the results\n"
      ]
    },
    {
      "cell_type": "markdown",
      "metadata": {},
      "source": [
        "### Step 1: Import Libraries\n",
        "\n",
        "We will begin by importing the necessary libraries. JAX will be used for numerical computations, NumPy for array manipulations, and Matplotlib for visualization.\n"
      ]
    },
    {
      "cell_type": "code",
      "execution_count": 11,
      "metadata": {},
      "outputs": [],
      "source": [
        "import jax\n",
        "import jax.numpy as jnp\n",
        "import jax.scipy.optimize\n",
        "\n",
        "import numpy as np\n",
        "from sklearn.model_selection import train_test_split\n",
        "import matplotlib.pyplot as plt"
      ]
    },
    {
      "cell_type": "markdown",
      "metadata": {},
      "source": [
        "### Step 2: Define the SVR Class\n",
        "\n",
        "We will create a class `SVR` to encapsulate the SVR model. The class will include methods for calculating the loss, training the model, and making predictions.\n",
        "\n",
        "#### Loss Function\n",
        "\n",
        "The loss function for SVR is defined as:\n",
        "\n",
        "$$ L(w) = \\lambda \\|w\\|^2 + \\frac{1}{n} \\sum_{i=1}^{n} \\max(0, |f(x_i) - y_i| - \\epsilon) $$\n",
        "\n",
        "Where:\n",
        "\n",
        "- $ w $ are the model parameters.\n",
        "- $ \\lambda $ is the regularization parameter.\n",
        "- $ \\epsilon $ is the epsilon-insensitive loss threshold.\n",
        "- $ f(x_i) $ is the predicted value for input \\( x_i \\).\n",
        "- $ y_i $ is the actual target value.\n",
        "\n",
        "Let's define the `SVR` class.\n"
      ]
    },
    {
      "cell_type": "code",
      "execution_count": 12,
      "metadata": {},
      "outputs": [],
      "source": [
        "class SVR:\n",
        "    def __init__(self, epsilon=0.1, lmbda=1.0):\n",
        "        self.epsilon = epsilon\n",
        "        self.lmbda = lmbda\n",
        "        self.w = None\n",
        "\n",
        "    def loss(self, params, X, y):\n",
        "        # 1. Compute the y predictions\n",
        "        # 2. Compute epsilon-insensitive loss\n",
        "        # 3. Regularization term (L2 norm of w)\n",
        "        # 4. Total loss\n",
        "        # FILL HERE\n",
        "        pass\n",
        "\n",
        "    def train(self, X, y):\n",
        "        # Initialize weights and bias self.w\n",
        "        # FILL HERE\n",
        "\n",
        "        # Solve optimization problem\n",
        "        opt_res = jax.scipy.optimize.minimize(\n",
        "            self.loss, self.w, method=\"BFGS\", args=(X, y)\n",
        "        )\n",
        "        self.w = opt_res.x\n",
        "\n",
        "    def predict(self, X):\n",
        "        # Implement prediction\n",
        "        # FILL HERE\n",
        "        pass"
      ]
    },
    {
      "cell_type": "markdown",
      "metadata": {},
      "source": [
        "### Step 3: Generate Synthetic Data\n",
        "\n",
        "Next, we will generate synthetic data for regression. We will create a linear relationship with added Gaussian noise.\n",
        "\n",
        "- We will generate $ n\\_{samples} $ data points.\n",
        "- The true relationship will follow the equation $ y = mx + c $.\n",
        "- Gaussian noise will be added to simulate real-world data.\n"
      ]
    },
    {
      "cell_type": "code",
      "execution_count": 13,
      "metadata": {},
      "outputs": [],
      "source": [
        "np.random.seed(0)  # For reproducibility\n",
        "m = 2.5  # Slope\n",
        "c = 1.0  # Intercept\n",
        "n_samples = 100\n",
        "\n",
        "# Generate X values uniformly distributed between 0 and 10\n",
        "# FILL HERE\n",
        "\n",
        "# Create the line (y = mx + c) and add Gaussian noise\n",
        "# FILL HERE"
      ]
    },
    {
      "cell_type": "markdown",
      "metadata": {},
      "source": [
        "### Step 4: Split the Data\n",
        "\n",
        "Now, we will split the dataset into training and testing sets. This allows us to evaluate the model's performance on unseen data.\n",
        "\n",
        "We will use an 80-20 split for training and testing.\n"
      ]
    },
    {
      "cell_type": "code",
      "execution_count": 14,
      "metadata": {},
      "outputs": [],
      "source": [
        "X_train, X_test, y_train, y_test = train_test_split(\n",
        "    X, y, test_size=0.2, random_state=0\n",
        ")\n",
        "\n",
        "# Convert data to JAX arrays\n",
        "X_train = jnp.asarray(X_train)\n",
        "y_train = jnp.asarray(y_train)\n",
        "X_test = jnp.asarray(X_test)\n",
        "y_test = jnp.asarray(y_test)"
      ]
    },
    {
      "cell_type": "markdown",
      "metadata": {},
      "source": [
        "### Step 5: Train the SVR Model\n",
        "\n",
        "We will now create an instance of the `SVR` class and train the model using the training data.\n"
      ]
    },
    {
      "cell_type": "code",
      "execution_count": 15,
      "metadata": {},
      "outputs": [],
      "source": [
        "# FILL HERE"
      ]
    },
    {
      "cell_type": "markdown",
      "metadata": {},
      "source": [
        "### Step 6: Make Predictions\n",
        "\n",
        "After training, we will use the model to make predictions on both the training and testing datasets.\n"
      ]
    },
    {
      "cell_type": "code",
      "execution_count": 16,
      "metadata": {},
      "outputs": [],
      "source": [
        "# FILL HERE"
      ]
    },
    {
      "cell_type": "markdown",
      "metadata": {},
      "source": [
        "### Step 7: Evaluate the Model\n",
        "\n",
        "We will evaluate the model's performance using the Mean Squared Error (MSE), which is defined as:\n",
        "\n",
        "$$ \\text{MSE} = \\frac{1}{n} \\sum_{i=1}^{n} (y_i - \\hat{y}_i)^2 $$\n",
        "\n",
        "Where:\n",
        "\n",
        "- $ y_i $ is the actual value.\n",
        "- $ \\hat{y}_i $ is the predicted value.\n",
        "- $ n $ is the number of samples.\n"
      ]
    },
    {
      "cell_type": "code",
      "execution_count": null,
      "metadata": {},
      "outputs": [],
      "source": [
        "# FILL HERE\n",
        "print(f\"Train MSE: {mse_train:.4f}\")\n",
        "print(f\"Test MSE: {mse_test:.4f}\")"
      ]
    },
    {
      "cell_type": "markdown",
      "metadata": {},
      "source": [
        "### Step 8: Visualize the Results\n",
        "\n",
        "Finally, we will visualize the training data, test data, and the model's predictions. This will help us understand how well our model has captured the underlying relationship.\n"
      ]
    },
    {
      "cell_type": "code",
      "execution_count": null,
      "metadata": {},
      "outputs": [],
      "source": [
        "plt.figure(figsize=(10, 6))\n",
        "\n",
        "# Plot training data\n",
        "# FILL HERE\n",
        "# Plot test data\n",
        "# FILL HERE\n",
        "\n",
        "# Plot the prediction line (SVR model)\n",
        "# FILL HERE"
      ]
    },
    {
      "cell_type": "markdown",
      "metadata": {},
      "source": [
        "# Support Vector Machine (SVM)\n",
        "\n",
        "We will change the previous code to implement a linear Support Vector Machine in primal formulation"
      ]
    },
    {
      "cell_type": "markdown",
      "metadata": {},
      "source": [
        "### Step 2: Define the SVM Class\n",
        "\n",
        "We will create a class `SVM` to encapsulate the SVM model. The class will include methods for calculating the loss, training the model, and making predictions.\n",
        "\n",
        "### Loss Function\n",
        "The loss function for SVM is defined as the hinge loss:\n",
        "\n",
        "$$ L(w) = \\lambda \\|w\\|^2 + \\frac{1}{n} \\sum_{i=1}^{n} \\max(0, 1 - y_i (w^T x_i + b)) $$\n",
        "\n",
        "Where:\n",
        "- $ w $ are the model parameters (weights).\n",
        "- $ b $ is the bias term.\n",
        "- $ \\lambda $ is the regularization parameter.\n",
        "- $ y_i $ is the true label for the sample $ i $.\n",
        "- $ x_i $ is the feature vector for the sample $ i $.\n",
        "- The first term is the regularization term, and the second term is the hinge loss.\n",
        "\n",
        "Let's define the `SVM` class."
      ]
    },
    {
      "cell_type": "code",
      "execution_count": 19,
      "metadata": {},
      "outputs": [],
      "source": [
        "class SVM:\n",
        "    def __init__(self, lmbda=1.0):\n",
        "        self.lmbda = lmbda\n",
        "        self.w = None\n",
        "\n",
        "    def loss(self, params, X, y):\n",
        "        # FILL HERE\n",
        "        pass\n",
        "\n",
        "    def train(self, X, y):\n",
        "        # Initialize weights and bias\n",
        "        # FILL HERE\n",
        "\n",
        "        # Solve optimization problem\n",
        "        opt_res = jax.scipy.optimize.minimize(self.loss, self.w, method=\"BFGS\", args=(X, y))\n",
        "        self.w = opt_res.x\n",
        "\n",
        "    def predict(self, X):\n",
        "        # Decision function\n",
        "        decision = jnp.dot(X, self.w[:-1]) + self.w[-1]\n",
        "        return jnp.sign(decision)"
      ]
    },
    {
      "cell_type": "markdown",
      "metadata": {},
      "source": [
        "### Step 3: Generate Synthetic Classification Data\n",
        "\n",
        "Next, we will generate synthetic data for classification. We will create a dataset of points in a 2D space and label them based on their coordinates.\n",
        "\n",
        "- We will generate $ n_{samples} $ data points.\n",
        "- The labels will be determined by the condition $ x_1 + x_2 > 10 $ to classify points into two categories."
      ]
    },
    {
      "cell_type": "code",
      "execution_count": 20,
      "metadata": {},
      "outputs": [],
      "source": [
        "np.random.seed(42)  # For reproducibility\n",
        "n_samples = 100\n",
        "\n",
        "# FILL HERE"
      ]
    },
    {
      "cell_type": "markdown",
      "metadata": {},
      "source": [
        "### Step 4: Split the Data\n",
        "\n",
        "Now, we will split the dataset into training and testing sets. This allows us to evaluate the model's performance on unseen data.\n",
        "\n",
        "We will use an 80-20 split for training and testing."
      ]
    },
    {
      "cell_type": "code",
      "execution_count": 21,
      "metadata": {},
      "outputs": [],
      "source": [
        "X_train, X_test, y_train, y_test = train_test_split(X, y, test_size=0.2, random_state=42)\n",
        "\n",
        "# Convert data to JAX arrays\n",
        "X_train = jnp.asarray(X_train)\n",
        "y_train = jnp.asarray(y_train)\n",
        "X_test = jnp.asarray(X_test)\n",
        "y_test = jnp.asarray(y_test)"
      ]
    },
    {
      "cell_type": "markdown",
      "metadata": {},
      "source": [
        "### Step 5: Train the SVM Model\n",
        "\n",
        "We will now create an instance of the `SVM` class and train the model using the training data."
      ]
    },
    {
      "cell_type": "code",
      "execution_count": 22,
      "metadata": {},
      "outputs": [],
      "source": [
        "# FILL HERE"
      ]
    },
    {
      "cell_type": "markdown",
      "metadata": {},
      "source": [
        "### Step 6: Make Predictions\n",
        "\n",
        "After training, we will use the model to make predictions on both the training and testing datasets."
      ]
    },
    {
      "cell_type": "code",
      "execution_count": 23,
      "metadata": {},
      "outputs": [],
      "source": [
        "# FILL HERE"
      ]
    },
    {
      "cell_type": "markdown",
      "metadata": {},
      "source": [
        "### Step 7: Evaluate the Model\n",
        "\n",
        "We will evaluate the model's performance using accuracy, which is defined as the proportion of correct predictions:\n",
        "\n",
        "$$ \\text{Accuracy} = \\frac{\\text{Number of Correct Predictions}}{\\text{Total Number of Predictions}} $$\n",
        "\n",
        "Let's calculate and print the accuracy for both the training and test sets."
      ]
    },
    {
      "cell_type": "code",
      "execution_count": null,
      "metadata": {},
      "outputs": [],
      "source": [
        "# FILL HERE\n",
        "print(f\"Train Accuracy: {accuracy_train:.4f}\")\n",
        "print(f\"Test Accuracy: {accuracy_test:.4f}\")"
      ]
    },
    {
      "cell_type": "markdown",
      "metadata": {},
      "source": [
        "### Step 8: Visualize the Results\n",
        "\n",
        "Finally, we will visualize the training data, test data, and the decision boundary of the SVM model. This will help us understand how well our model has separated the classes."
      ]
    },
    {
      "cell_type": "code",
      "execution_count": null,
      "metadata": {},
      "outputs": [],
      "source": [
        "plt.figure(figsize=(10, 6))\n",
        "\n",
        "# Plot train and test data\n",
        "# FILL HERE\n",
        "\n",
        "# Plot the decision boundary\n",
        "# HINT:\n",
        "# 1. make a fine grid with `np.meshgrid`\n",
        "# 2. make predictions on each point of the grid\n",
        "# 3. use `plt.contourf` to plot the field of predictions\n",
        "# FILL HERE\n"
      ]
    }
  ],
  "metadata": {
    "kernelspec": {
      "display_name": "Python 3",
      "language": "python",
      "name": "python3"
    },
    "language_info": {
      "codemirror_mode": {
        "name": "ipython",
        "version": 3
      },
      "file_extension": ".py",
      "mimetype": "text/x-python",
      "name": "python",
      "nbconvert_exporter": "python",
      "pygments_lexer": "ipython3",
      "version": "3.11.6"
    }
  },
  "nbformat": 4,
  "nbformat_minor": 4
}
