{
 "cells": [
  {
   "cell_type": "markdown",
   "metadata": {
    "id": "W0wiCrjqH6y4"
   },
   "source": [
    "# 2D convolutions\n"
   ]
  },
  {
   "cell_type": "code",
   "execution_count": null,
   "metadata": {
    "id": "u3JPrwdxdJP1"
   },
   "outputs": [],
   "source": [
    "import numpy as np\n",
    "import matplotlib.pyplot as plt\n",
    "from matplotlib.image import imread\n",
    "from scipy import signal\n",
    "from scipy import linalg\n",
    "import time"
   ]
  },
  {
   "cell_type": "markdown",
   "metadata": {
    "id": "OS4Z4tF96MVZ"
   },
   "source": [
    "Consider a 2D signal $\\mathbf{v}$ representing a picture\n"
   ]
  },
  {
   "cell_type": "code",
   "execution_count": null,
   "metadata": {
    "id": "0L8mDgizVuXs"
   },
   "outputs": [],
   "source": [
    "# write here the import path of the image\n",
    "image_path = \"...\"\n",
    "\n",
    "v = np.mean(imread(image_path), axis=2)\n",
    "\n",
    "plt.rcParams[\"figure.figsize\"] = [8, 8]\n",
    "\n",
    "vmin = v.min()\n",
    "vmax = v.max()\n",
    "img = plt.imshow(v, cmap=\"gray\", vmin=vmin, vmax=vmax)\n",
    "plt.axis(\"off\")"
   ]
  },
  {
   "cell_type": "markdown",
   "metadata": {
    "id": "5rC1oyVh6bQ8"
   },
   "source": [
    "Consider the following kernels\n"
   ]
  },
  {
   "cell_type": "code",
   "execution_count": null,
   "metadata": {
    "id": "q4yzRZ-4c-1M"
   },
   "outputs": [],
   "source": [
    "kernel_blur1 = np.array([[1, 2, 1], [2, 4, 2], [1, 2, 1]])\n",
    "kernel_blur1 = kernel_blur1 / np.sum(kernel_blur1)\n",
    "\n",
    "kernel_blur2 = np.ones((10, 10)) / 100\n",
    "\n",
    "kernel_edge1 = np.array([[-1, -1, -1], [-1, 8, -1], [-1, -1, -1]])\n",
    "kernel_edge2 = np.array([[0, -1, 0], [-1, 4, -1], [0, -1, 0]])\n",
    "kernel_edge3 = np.array([[1, 0, -1], [0, 0, 0], [-1, 0, 1]])\n",
    "\n",
    "kernel_sobel_horizontal = np.array([[1, 2, 1], [0, 0, 0], [-1, -2, -1]])\n",
    "kernel_sobel_vertical = np.array([[1, 0, -1], [2, 0, -2], [1, 0, -1]])\n",
    "\n",
    "kernel_sharpen = np.array([[0, -1, 0], [-1, 5, -1], [0, -1, 0]])\n",
    "\n",
    "kernel_drunk = np.random.randn(50, 50)"
   ]
  },
  {
   "cell_type": "markdown",
   "metadata": {
    "id": "zRTU3cOJ6kCT"
   },
   "source": [
    "Choose here the desired filter $\\mathbf{k}$\n"
   ]
  },
  {
   "cell_type": "code",
   "execution_count": null,
   "metadata": {
    "id": "vhVKMv8A6FZd"
   },
   "outputs": [],
   "source": [
    "k = kernel_blur1"
   ]
  },
  {
   "cell_type": "markdown",
   "metadata": {
    "id": "tcCw2-g26pBk"
   },
   "source": [
    "In what follows, we will compute the convolution between $\\mathbf{v}$ and $\\mathbf{k}$ in 3 different manners. At the end of each point, plot the obtained filtered (i.e. convolved) signal.\n"
   ]
  },
  {
   "cell_type": "markdown",
   "metadata": {
    "id": "iq9fjGMx7L3E"
   },
   "source": [
    "## 1. Direct definition (sums of products)\n",
    "\n",
    "Convolution without \"boundary layers\"\n"
   ]
  },
  {
   "cell_type": "markdown",
   "metadata": {
    "id": "ZWpQITED7UpJ"
   },
   "source": [
    "## 2. Convolution through DFT\n",
    "\n",
    "Besides the filtered image, plot the DFT of the original image, of the kernel and of the filtered image.\n"
   ]
  },
  {
   "cell_type": "markdown",
   "metadata": {
    "id": "fxjHDlSE7gBr"
   },
   "source": [
    "## 3. Using the command `scipy.signal.convolve`\n",
    "\n",
    "Check out the [documentation](https://docs.scipy.org/doc/scipy/reference/generated/scipy.signal.convolve.html).\n"
   ]
  }
 ],
 "metadata": {
  "colab": {
   "authorship_tag": "ABX9TyOufBRbPSJp9CA8q8CWGc6d",
   "collapsed_sections": [],
   "mount_file_id": "1fe7X4SqPlGnGLrXbe6QyfU7ldyY893rm",
   "name": "Convolution2D.ipynb",
   "provenance": []
  },
  "kernelspec": {
   "display_name": "Python 3",
   "name": "python3"
  }
 },
 "nbformat": 4,
 "nbformat_minor": 0
}
