{
 "cells": [
  {
   "cell_type": "markdown",
   "metadata": {
    "id": "4ky2ALT8aFZq"
   },
   "source": [
    "# Handwriting recognition\n"
   ]
  },
  {
   "cell_type": "markdown",
   "metadata": {
    "id": "LWxlDFYZx31S"
   },
   "source": [
    "## Data import and visualization\n"
   ]
  },
  {
   "cell_type": "markdown",
   "metadata": {
    "id": "hRNhX9i6vwuT"
   },
   "source": [
    "Import the MNIST train dataset ([https://en.wikipedia.org/wiki/MNIST_database](https://en.wikipedia.org/wiki/MNIST_database))\n"
   ]
  },
  {
   "cell_type": "code",
   "execution_count": null,
   "metadata": {
    "colab": {
     "base_uri": "https://localhost:8080/"
    },
    "executionInfo": {
     "elapsed": 21367,
     "status": "ok",
     "timestamp": 1665754034163,
     "user": {
      "displayName": "Francesco Regazzoni",
      "userId": "08593163129562527691"
     },
     "user_tz": -120
    },
    "id": "Tb2dI5WU-2ji",
    "outputId": "c093efbe-a9fa-44c6-b365-114756b4e8b9"
   },
   "outputs": [],
   "source": [
    "import matplotlib.pyplot as plt\n",
    "import numpy as np\n",
    "\n",
    "# This dataset is contained in the sample data directory of Google Colab online runtimes\n",
    "data = np.genfromtxt(\"../mnist_train_small.csv\", delimiter=\",\")\n",
    "data.shape"
   ]
  },
  {
   "cell_type": "markdown",
   "metadata": {
    "id": "TtWMNidPv9y_"
   },
   "source": [
    "Store the data in a matrix and the labels in a vector\n"
   ]
  },
  {
   "cell_type": "code",
   "execution_count": null,
   "metadata": {
    "colab": {
     "base_uri": "https://localhost:8080/"
    },
    "executionInfo": {
     "elapsed": 8,
     "status": "ok",
     "timestamp": 1665754034163,
     "user": {
      "displayName": "Francesco Regazzoni",
      "userId": "08593163129562527691"
     },
     "user_tz": -120
    },
    "id": "yzGMpNrABkpe",
    "outputId": "87767256-e057-4d4f-e408-1c2d2d4b236a"
   },
   "outputs": [],
   "source": [
    "labels_full = data[:, 0]\n",
    "A_full = data[:, 1:].transpose()\n",
    "labels_full.shape, A_full.shape"
   ]
  },
  {
   "cell_type": "markdown",
   "metadata": {
    "id": "-9AwDHzcwSx3"
   },
   "source": [
    "Visualize the first 30 pictures with the corresponding labels\n"
   ]
  },
  {
   "cell_type": "code",
   "execution_count": null,
   "metadata": {
    "colab": {
     "base_uri": "https://localhost:8080/",
     "height": 301
    },
    "executionInfo": {
     "elapsed": 1190,
     "status": "ok",
     "timestamp": 1665754035348,
     "user": {
      "displayName": "Francesco Regazzoni",
      "userId": "08593163129562527691"
     },
     "user_tz": -120
    },
    "id": "Nd6cnbmu_Gvv",
    "outputId": "a70d1d21-7a2e-4d19-fe95-4ed879bc41fd"
   },
   "outputs": [],
   "source": [
    "fig, axs = plt.subplots(ncols=10, nrows=3, figsize=(20, 6))\n",
    "axs = axs.reshape((-1,))\n",
    "for i in range(30):\n",
    "    image_i = A_full[:, i].reshape((28, 28))\n",
    "    axs[i].imshow(image_i, cmap=\"gray\")\n",
    "    axs[i].set_title(int(labels_full[i]))\n",
    "    axs[i].axis(\"off\")"
   ]
  },
  {
   "cell_type": "markdown",
   "metadata": {
    "id": "FoNm2ebqwbd_"
   },
   "source": [
    "Visualize the first 30 pictures corresponding the the digit \"9\"\n"
   ]
  },
  {
   "cell_type": "code",
   "execution_count": null,
   "metadata": {
    "colab": {
     "base_uri": "https://localhost:8080/",
     "height": 288
    },
    "executionInfo": {
     "elapsed": 789,
     "status": "ok",
     "timestamp": 1665754036129,
     "user": {
      "displayName": "Francesco Regazzoni",
      "userId": "08593163129562527691"
     },
     "user_tz": -120
    },
    "id": "OmYPxqbawa2e",
    "outputId": "7438a615-fd36-484f-aaff-f93194da5671"
   },
   "outputs": [],
   "source": [
    "A_filtered = A_full[:, labels_full == 9]\n",
    "fig, axs = plt.subplots(ncols=10, nrows=3, figsize=(20, 6))\n",
    "axs = axs.reshape((-1,))\n",
    "for i in range(30):\n",
    "    image_i = A_filtered[:, i].reshape((28, 28))\n",
    "    axs[i].imshow(image_i, cmap=\"gray\")\n",
    "    axs[i].axis(\"off\")"
   ]
  },
  {
   "cell_type": "markdown",
   "metadata": {
    "id": "pdw8FUJpzD_b"
   },
   "source": [
    "### Classification of two digits (0 and 9)\n",
    "\n",
    "We now focus on the digits 0 and 9 only. Build a reduced training dataset containing only images corresponding to these digits.\n"
   ]
  },
  {
   "cell_type": "code",
   "execution_count": 27,
   "metadata": {
    "executionInfo": {
     "elapsed": 5,
     "status": "ok",
     "timestamp": 1665754036130,
     "user": {
      "displayName": "Francesco Regazzoni",
      "userId": "08593163129562527691"
     },
     "user_tz": -120
    },
    "id": "EYKsGVqdDD95"
   },
   "outputs": [],
   "source": [
    "digits = (0, 9)\n",
    "mask = np.logical_or(labels_full == digits[0], labels_full == digits[1])\n",
    "A = A_full[:, mask]\n",
    "labels = labels_full[mask]"
   ]
  },
  {
   "cell_type": "markdown",
   "metadata": {
    "id": "I4i_LIbkcnr_"
   },
   "source": [
    "Plot the first 30 training images.\n"
   ]
  },
  {
   "cell_type": "code",
   "execution_count": null,
   "metadata": {
    "colab": {
     "base_uri": "https://localhost:8080/",
     "height": 301
    },
    "executionInfo": {
     "elapsed": 1000,
     "status": "ok",
     "timestamp": 1665754037126,
     "user": {
      "displayName": "Francesco Regazzoni",
      "userId": "08593163129562527691"
     },
     "user_tz": -120
    },
    "id": "HmkTsNeGDkAQ",
    "outputId": "6e56e573-aba3-494f-f369-81ce64b2ad55"
   },
   "outputs": [],
   "source": [
    "fig, axs = plt.subplots(nrows=3, ncols=10, figsize=(20, 6))\n",
    "axs = axs.reshape((-1,))\n",
    "for i in range(len(axs)):\n",
    "    image_i = A[:, i].reshape((28, 28))\n",
    "    axs[i].imshow(image_i, cmap=\"gray\")\n",
    "    axs[i].set_title(int(labels[i]))\n",
    "    axs[i].axis(\"off\")"
   ]
  },
  {
   "cell_type": "markdown",
   "metadata": {
    "id": "0w2JOd1maxth"
   },
   "source": [
    "Compute and visualize the average of the training data\n"
   ]
  },
  {
   "cell_type": "code",
   "execution_count": null,
   "metadata": {
    "colab": {
     "base_uri": "https://localhost:8080/",
     "height": 266
    },
    "executionInfo": {
     "elapsed": 336,
     "status": "ok",
     "timestamp": 1665754037456,
     "user": {
      "displayName": "Francesco Regazzoni",
      "userId": "08593163129562527691"
     },
     "user_tz": -120
    },
    "id": "0WEXFbIxIQD_",
    "outputId": "b1e3e37f-75c8-45bc-cb75-465f21b54239"
   },
   "outputs": [],
   "source": [
    "A_mean = A.mean(axis=1)\n",
    "plt.imshow(A_mean.reshape((28, 28)), cmap=\"gray\")\n",
    "plt.axis(\"off\")"
   ]
  },
  {
   "cell_type": "markdown",
   "metadata": {
    "id": "7xJQU46Fc-DE"
   },
   "source": [
    "Perform PCA on the data. Then, plot the trend of\n",
    "\n",
    "- the singular values $\\sigma_k$\n",
    "- the cumulate fraction of singular values: $\\frac{\\sum_{i=1}^{k} \\sigma_i}{\\sum_{i=1}^{q} \\sigma_i}$\n",
    "- the fraction of the \"explained variance\": $\\frac{\\sum_{i=1}^{k} \\sigma_i^2}{\\sum_{i=1}^{q} \\sigma_i^2}$\n"
   ]
  },
  {
   "cell_type": "code",
   "execution_count": null,
   "metadata": {
    "colab": {
     "base_uri": "https://localhost:8080/",
     "height": 354
    },
    "executionInfo": {
     "elapsed": 2277,
     "status": "ok",
     "timestamp": 1665754039724,
     "user": {
      "displayName": "Francesco Regazzoni",
      "userId": "08593163129562527691"
     },
     "user_tz": -120
    },
    "id": "FpBJmx5WD78B",
    "outputId": "c5488813-d87a-401a-fb2f-20b2e30a9b08"
   },
   "outputs": [],
   "source": [
    "A_bar = A - A_mean[:, None]\n",
    "U, s, VT = np.linalg.svd(A_bar, full_matrices=False)\n",
    "\n",
    "fig, axes = plt.subplots(nrows=1, ncols=3, figsize=(18, 6))\n",
    "\n",
    "axes[0].semilogy(s, \"o-\")\n",
    "axes[0].set_title(\"Singluar values\")\n",
    "\n",
    "axes[1].plot(np.cumsum(s) / np.sum(s), \"o-\")\n",
    "axes[1].set_title(\"Cumulate fraction of singular values\")\n",
    "\n",
    "axes[2].plot(np.cumsum(s**2) / np.sum(s**2), \"o-\")\n",
    "axes[2].set_title(\"Explained variance\")"
   ]
  },
  {
   "cell_type": "markdown",
   "metadata": {
    "id": "ge4u4WaNyVFA"
   },
   "source": [
    "Visualize the first 30 principal axes\n"
   ]
  },
  {
   "cell_type": "code",
   "execution_count": null,
   "metadata": {
    "colab": {
     "base_uri": "https://localhost:8080/",
     "height": 301
    },
    "executionInfo": {
     "elapsed": 1572,
     "status": "ok",
     "timestamp": 1665754041290,
     "user": {
      "displayName": "Francesco Regazzoni",
      "userId": "08593163129562527691"
     },
     "user_tz": -120
    },
    "id": "fAglHlGVO0S1",
    "outputId": "36743dc7-4c75-4eb5-d691-1f717381c1b8"
   },
   "outputs": [],
   "source": [
    "fig, axs = plt.subplots(nrows=3, ncols=10, figsize=(20, 6))\n",
    "axs = axs.reshape((-1,))\n",
    "for i in range(len(axs)):\n",
    "    image_i = U[:, i].reshape((28, 28))\n",
    "    axs[i].imshow(image_i, cmap=\"gray\")\n",
    "    axs[i].axis(\"off\")\n",
    "    axs[i].set_title(str(i + 1))"
   ]
  },
  {
   "cell_type": "markdown",
   "metadata": {
    "id": "KDjwk_3oyeJs"
   },
   "source": [
    "Compute the first two principal components corresponding to the first image\n"
   ]
  },
  {
   "cell_type": "code",
   "execution_count": null,
   "metadata": {
    "colab": {
     "base_uri": "https://localhost:8080/"
    },
    "executionInfo": {
     "elapsed": 9,
     "status": "ok",
     "timestamp": 1665754041291,
     "user": {
      "displayName": "Francesco Regazzoni",
      "userId": "08593163129562527691"
     },
     "user_tz": -120
    },
    "id": "xIKG8D5iUWBf",
    "outputId": "08bb3dea-f3dc-41a5-80c3-8bbec6593791"
   },
   "outputs": [],
   "source": [
    "print(f\"1st principal component: {np.inner(A_bar[:, 0], U[:, 0])}\" )\n",
    "print(f\"2nd principal component: {np.inner(A_bar[:, 0], U[:, 1])}\" )"
   ]
  },
  {
   "cell_type": "markdown",
   "metadata": {
    "id": "N6_5oayZylZL"
   },
   "source": [
    "Define a matrix corresponding all the principal components of all the images, and check the result of the previous point\n"
   ]
  },
  {
   "cell_type": "code",
   "execution_count": null,
   "metadata": {
    "colab": {
     "base_uri": "https://localhost:8080/"
    },
    "executionInfo": {
     "elapsed": 8,
     "status": "ok",
     "timestamp": 1665754041292,
     "user": {
      "displayName": "Francesco Regazzoni",
      "userId": "08593163129562527691"
     },
     "user_tz": -120
    },
    "id": "tBY16v56O0LV",
    "outputId": "61fb9cd6-b0eb-4cd5-ff0c-ad99d66b8e1d"
   },
   "outputs": [],
   "source": [
    "A_pc = np.matmul(U.T, A_bar)\n",
    "print(f\"1st principal component: {A_pc[0, 0]}\")\n",
    "print(f\"2nd principal component: {A_pc[1, 0]}\")"
   ]
  },
  {
   "cell_type": "markdown",
   "metadata": {
    "id": "T0A8Bzw3dHs7"
   },
   "source": [
    "Create a scatterplot for the first 2 principal components of all the training images, grouped by label. Consider only the first 500 pictures.\n"
   ]
  },
  {
   "cell_type": "code",
   "execution_count": null,
   "metadata": {
    "colab": {
     "base_uri": "https://localhost:8080/",
     "height": 265
    },
    "executionInfo": {
     "elapsed": 1501,
     "status": "ok",
     "timestamp": 1665754042787,
     "user": {
      "displayName": "Francesco Regazzoni",
      "userId": "08593163129562527691"
     },
     "user_tz": -120
    },
    "id": "_lK1IOMcGi_f",
    "outputId": "ec1217ae-5779-47db-c3ca-9fdeb347c017"
   },
   "outputs": [],
   "source": [
    "for i in range(500):\n",
    "    x = np.inner(A_bar[:, i], U[:, 0])\n",
    "    y = np.inner(A_bar[:, i], U[:, 1])\n",
    "    col = \"r\" if labels[i] == digits[0] else \"b\"\n",
    "    plt.scatter(x, y, marker=\"x\", color=col, s=50)"
   ]
  },
  {
   "cell_type": "markdown",
   "metadata": {
    "id": "NbAeHe2PdJ1s"
   },
   "source": [
    "Define a classifier, by fixing a threshold on the first principal component. Then, test the classifier on the MNIST test dataset. Compute the number of true/false positive/negative for both the digits (confusion matrix) and the accuracy of the classifier.\n"
   ]
  },
  {
   "cell_type": "code",
   "execution_count": null,
   "metadata": {
    "colab": {
     "base_uri": "https://localhost:8080/",
     "height": 283
    },
    "executionInfo": {
     "elapsed": 2958,
     "status": "ok",
     "timestamp": 1665754081959,
     "user": {
      "displayName": "Francesco Regazzoni",
      "userId": "08593163129562527691"
     },
     "user_tz": -120
    },
    "id": "eaX9UWLtdpPe",
    "outputId": "8d443747-dce4-4f94-f4b9-6aa8fb522380"
   },
   "outputs": [],
   "source": [
    "threshold = 0\n",
    "\n",
    "for i in range(500):\n",
    "    x = np.inner(A_bar[:, i], U[:, 0])\n",
    "    y = np.inner(A_bar[:, i], U[:, 1])\n",
    "    col = \"r\" if labels[i] == digits[0] else \"b\"\n",
    "    plt.scatter(x, y, marker=\"x\", color=col, s=50)\n",
    "\n",
    "plt.axvline(threshold, color=\"k\", linestyle=\"--\")"
   ]
  },
  {
   "cell_type": "code",
   "execution_count": null,
   "metadata": {
    "colab": {
     "base_uri": "https://localhost:8080/"
    },
    "executionInfo": {
     "elapsed": 6613,
     "status": "ok",
     "timestamp": 1665754051220,
     "user": {
      "displayName": "Francesco Regazzoni",
      "userId": "08593163129562527691"
     },
     "user_tz": -120
    },
    "id": "7FOXhDZpKSb4",
    "outputId": "62fdf956-47e6-49bc-f2b4-c47c4d069a59"
   },
   "outputs": [],
   "source": [
    "data_test = np.genfromtxt(\"../mnist_test.csv\", delimiter=\",\")\n",
    "labels_full_test = data_test[:, 0]\n",
    "A_full_test = data_test[:, 1:].transpose()\n",
    "labels_full_test.shape, A_full_test.shape"
   ]
  },
  {
   "cell_type": "code",
   "execution_count": null,
   "metadata": {
    "colab": {
     "base_uri": "https://localhost:8080/"
    },
    "executionInfo": {
     "elapsed": 10,
     "status": "ok",
     "timestamp": 1665754051221,
     "user": {
      "displayName": "Francesco Regazzoni",
      "userId": "08593163129562527691"
     },
     "user_tz": -120
    },
    "id": "SwcFD4nTKv6S",
    "outputId": "3cc2d308-fe3e-4790-cc7d-9d143fd2dc30"
   },
   "outputs": [],
   "source": [
    "mask = np.logical_or(labels_full_test == digits[0], labels_full_test == digits[1])\n",
    "A_test = A_full_test[:, mask]\n",
    "labels_test = labels_full_test[mask]\n",
    "labels_test.shape, A_test.shape"
   ]
  },
  {
   "cell_type": "code",
   "execution_count": null,
   "metadata": {
    "colab": {
     "base_uri": "https://localhost:8080/",
     "height": 283
    },
    "executionInfo": {
     "elapsed": 2175,
     "status": "ok",
     "timestamp": 1665754053388,
     "user": {
      "displayName": "Francesco Regazzoni",
      "userId": "08593163129562527691"
     },
     "user_tz": -120
    },
    "id": "OhnwTpS6hsud",
    "outputId": "d1139f56-fd98-4f12-d1c6-b1b0f0257476"
   },
   "outputs": [],
   "source": [
    "for i in range(500):\n",
    "    x = np.inner(A_bar[:, i], U[:, 0])\n",
    "    y = np.inner(A_bar[:, i], U[:, 1])\n",
    "    col = \"r\" if labels[i] == digits[0] else \"b\"\n",
    "    plt.scatter(x, y, marker=\"x\", color=col, s=50)\n",
    "\n",
    "plt.axvline(threshold, color=\"k\", linestyle=\"--\")"
   ]
  },
  {
   "cell_type": "code",
   "execution_count": null,
   "metadata": {
    "colab": {
     "base_uri": "https://localhost:8080/"
    },
    "executionInfo": {
     "elapsed": 13,
     "status": "ok",
     "timestamp": 1665754053388,
     "user": {
      "displayName": "Francesco Regazzoni",
      "userId": "08593163129562527691"
     },
     "user_tz": -120
    },
    "id": "ZPFhbG-ELDwX",
    "outputId": "323c2ee5-fa86-42a4-de9f-07560aa567b0"
   },
   "outputs": [],
   "source": [
    "PC_1 = np.matmul(U[:, 0].transpose(), (A_test - A_mean[:, None]))\n",
    "\n",
    "labels_predicted = np.empty(labels_test.shape).astype(int)\n",
    "labels_predicted[PC_1 > threshold] = digits[0]\n",
    "labels_predicted[PC_1 <= threshold] = digits[1]\n",
    "\n",
    "true_0 = np.sum(np.logical_and(labels_test == digits[0], labels_predicted == digits[0]))\n",
    "false_0 = np.sum(\n",
    "    np.logical_and(labels_test == digits[1], labels_predicted == digits[0])\n",
    ")\n",
    "true_1 = np.sum(np.logical_and(labels_test == digits[1], labels_predicted == digits[1]))\n",
    "false_1 = np.sum(\n",
    "    np.logical_and(labels_test == digits[0], labels_predicted == digits[1])\n",
    ")\n",
    "\n",
    "print(f\"true  {digits[0]}: {true_0}\")\n",
    "print(f\"false {digits[0]}: {false_0}\")\n",
    "print(f\"true  {digits[1]}: {true_1}\")\n",
    "print(f\"false {digits[1]}: {false_1}\")\n",
    "accuracy = (true_0 + true_1) / (true_0 + true_1 + false_0 + false_1)\n",
    "print(f\"accuracy = {accuracy * 100:.2f} %\")"
   ]
  },
  {
   "cell_type": "markdown",
   "metadata": {},
   "source": [
    "You can do the same more compactly with scikit learn\n"
   ]
  },
  {
   "cell_type": "code",
   "execution_count": null,
   "metadata": {},
   "outputs": [],
   "source": [
    "from sklearn import metrics\n",
    "\n",
    "cm_display = metrics.ConfusionMatrixDisplay.from_predictions(\n",
    "    labels_test, labels_predicted, cmap=plt.cm.Blues, normalize=\"true\"\n",
    ")"
   ]
  }
 ],
 "metadata": {
  "colab": {
   "authorship_tag": "ABX9TyN9lVPIulgctACEL88TJJgH",
   "collapsed_sections": [],
   "mount_file_id": "10FR0kgC5SIzdHGHPygHuyXTf7tYsCGsr",
   "provenance": []
  },
  "kernelspec": {
   "display_name": "Python 3 (ipykernel)",
   "language": "python",
   "name": "python3"
  },
  "language_info": {
   "codemirror_mode": {
    "name": "ipython",
    "version": 3
   },
   "file_extension": ".py",
   "mimetype": "text/x-python",
   "name": "python",
   "nbconvert_exporter": "python",
   "pygments_lexer": "ipython3",
   "version": "3.11.6"
  }
 },
 "nbformat": 4,
 "nbformat_minor": 1
}
