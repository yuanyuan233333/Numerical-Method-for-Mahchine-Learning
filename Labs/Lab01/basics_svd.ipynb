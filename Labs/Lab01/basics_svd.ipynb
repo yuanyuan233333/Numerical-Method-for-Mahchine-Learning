{
 "cells": [
  {
   "cell_type": "markdown",
   "metadata": {
    "id": "dmbKCuWye-rs"
   },
   "source": [
    "# SVD decomposition with `scipy`"
   ]
  },
  {
   "cell_type": "markdown",
   "metadata": {
    "id": "ApkyicLVc6Tj"
   },
   "source": [
    "Import the required modules"
   ]
  },
  {
   "cell_type": "code",
   "execution_count": 2,
   "metadata": {
    "id": "1rfgleYmcAuo"
   },
   "outputs": [],
   "source": [
    "import scipy.linalg as la\n",
    "import numpy as np"
   ]
  },
  {
   "cell_type": "markdown",
   "metadata": {
    "id": "oUBZbm3pc9zu"
   },
   "source": [
    "Generate a random 5x4 matrix"
   ]
  },
  {
   "cell_type": "code",
   "execution_count": 3,
   "metadata": {
    "id": "HSULhXpXcYXJ"
   },
   "outputs": [
    {
     "data": {
      "text/plain": [
       "array([[0.5488135 , 0.71518937, 0.60276338, 0.54488318],\n",
       "       [0.4236548 , 0.64589411, 0.43758721, 0.891773  ],\n",
       "       [0.96366276, 0.38344152, 0.79172504, 0.52889492],\n",
       "       [0.56804456, 0.92559664, 0.07103606, 0.0871293 ],\n",
       "       [0.0202184 , 0.83261985, 0.77815675, 0.87001215]])"
      ]
     },
     "execution_count": 3,
     "metadata": {},
     "output_type": "execute_result"
    }
   ],
   "source": [
    "np.random.seed(0)\n",
    "\n",
    "A = np.random.rand(5,4)\n",
    "A"
   ]
  },
  {
   "cell_type": "markdown",
   "metadata": {
    "id": "3a4qVZ5YdHsW"
   },
   "source": [
    "## `<numpy|scipy>.linalg.svd` \n",
    "\n",
    "Equivalent implementations:\n",
    "- https://numpy.org/doc/stable/reference/generated/numpy.linalg.svd.html\n",
    "- https://docs.scipy.org/doc/scipy/reference/generated/scipy.linalg.svd.html\n",
    "\n"
   ]
  },
  {
   "cell_type": "markdown",
   "metadata": {
    "id": "6uj3MxaIeMOw"
   },
   "source": [
    "### Full SVD (`full_matrices = True` - default)\n",
    "\n",
    "**input:**\n",
    "\n",
    "$A \\in \\mathbb{R}^{m\\times n}$\n",
    "\n",
    "**output:**\n",
    "\n",
    "$U \\in \\mathbb{R}^{m\\times m}, S \\in \\mathbb{R}^{m\\times n}, V \\in \\mathbb{R}^{n\\times n}$\n",
    "\n",
    "or, more precisely\n",
    "\n",
    "$\\boldsymbol{\\sigma} \\in \\mathbb{R}^{q} $\n",
    "\n",
    "where $q = \\min(m,n)$.\n"
   ]
  },
  {
   "cell_type": "code",
   "execution_count": 4,
   "metadata": {
    "id": "RPh_IJdscdNb"
   },
   "outputs": [
    {
     "name": "stdout",
     "output_type": "stream",
     "text": [
      "U shape:  (5, 5)\n",
      "s shape:  (4,)\n",
      "VT shape:  (4, 4)\n"
     ]
    }
   ],
   "source": [
    "U, s, VT = np.linalg.svd(A)\n",
    "#U, s, VT = la.svd(A)\n",
    "print('U shape: ', U.shape)\n",
    "print('s shape: ', s.shape)\n",
    "print('VT shape: ', VT.shape)"
   ]
  },
  {
   "cell_type": "markdown",
   "metadata": {
    "id": "dlKu4OF926LD"
   },
   "source": [
    "Build the matrix $S$"
   ]
  },
  {
   "cell_type": "code",
   "execution_count": 5,
   "metadata": {
    "id": "yccHBHngcsri"
   },
   "outputs": [
    {
     "data": {
      "text/plain": [
       "array([[2.64618677, 0.        , 0.        , 0.        ],\n",
       "       [0.        , 0.83351254, 0.        , 0.        ],\n",
       "       [0.        , 0.        , 0.70753001, 0.        ],\n",
       "       [0.        , 0.        , 0.        , 0.29842614],\n",
       "       [0.        , 0.        , 0.        , 0.        ]])"
      ]
     },
     "execution_count": 5,
     "metadata": {},
     "output_type": "execute_result"
    }
   ],
   "source": [
    "S = np.zeros(A.shape)\n",
    "for i in range(len(s)):\n",
    "    S[i, i] = s[i]\n",
    "S"
   ]
  },
  {
   "cell_type": "code",
   "execution_count": 6,
   "metadata": {
    "id": "fUcq8ihmcxjp"
   },
   "outputs": [
    {
     "data": {
      "text/plain": [
       "array([[2.64618677, 0.        , 0.        , 0.        ],\n",
       "       [0.        , 0.83351254, 0.        , 0.        ],\n",
       "       [0.        , 0.        , 0.70753001, 0.        ],\n",
       "       [0.        , 0.        , 0.        , 0.29842614],\n",
       "       [0.        , 0.        , 0.        , 0.        ]])"
      ]
     },
     "execution_count": 6,
     "metadata": {},
     "output_type": "execute_result"
    }
   ],
   "source": [
    "S = la.diagsvd(s, A.shape[0], A.shape[1])\n",
    "S"
   ]
  },
  {
   "cell_type": "markdown",
   "metadata": {
    "id": "hQYIgR273C8a"
   },
   "source": [
    "Reconstruct the matrix $A$"
   ]
  },
  {
   "cell_type": "code",
   "execution_count": 7,
   "metadata": {
    "id": "oY02NgbWc1TI"
   },
   "outputs": [
    {
     "name": "stdout",
     "output_type": "stream",
     "text": [
      "err: 4.624308861561109e-16\n"
     ]
    }
   ],
   "source": [
    "A_svd = np.matmul(U, np.matmul(S,VT))\n",
    "# equivalently: A_svd = U @ S @ VT\n",
    "print(f\"err: {(la.norm(A - A_svd) / la.norm(A))}\")"
   ]
  },
  {
   "cell_type": "markdown",
   "metadata": {
    "id": "W1HRvIvrdsOy"
   },
   "source": [
    "### Thin SVD (`full_matrices = False`)\n",
    "\n",
    "**input:**\n",
    "\n",
    "$A \\in \\mathbb{R}^{m\\times n}$\n",
    "\n",
    "**output:**\n",
    "\n",
    "$U \\in \\mathbb{R}^{m\\times q}, S \\in \\mathbb{R}^{q\\times q}, V \\in \\mathbb{R}^{n\\times q}$\n",
    "\n",
    "or, more precisely\n",
    "\n",
    "$\\boldsymbol{\\sigma} \\in \\mathbb{R}^{q} $\n",
    "\n",
    "where $q = \\min(m,n)$.\n",
    "\n"
   ]
  },
  {
   "cell_type": "code",
   "execution_count": 8,
   "metadata": {
    "id": "7toKBuE-dvEL"
   },
   "outputs": [
    {
     "name": "stdout",
     "output_type": "stream",
     "text": [
      "U shape:  (5, 4)\n",
      "s shape:  (4,)\n",
      "VT shape:  (4, 4)\n"
     ]
    }
   ],
   "source": [
    "U, s, VT = la.svd(A, full_matrices=False)\n",
    "print('U shape: ', U.shape)\n",
    "print('s shape: ', s.shape)\n",
    "print('VT shape: ', VT.shape)"
   ]
  },
  {
   "cell_type": "markdown",
   "metadata": {
    "id": "4afloZj529Ps"
   },
   "source": [
    "Build the matrix $S$"
   ]
  },
  {
   "cell_type": "code",
   "execution_count": 9,
   "metadata": {
    "id": "iml2ixlfd27M"
   },
   "outputs": [
    {
     "data": {
      "text/plain": [
       "array([[2.64618677, 0.        , 0.        , 0.        ],\n",
       "       [0.        , 0.83351254, 0.        , 0.        ],\n",
       "       [0.        , 0.        , 0.70753001, 0.        ],\n",
       "       [0.        , 0.        , 0.        , 0.29842614]])"
      ]
     },
     "execution_count": 9,
     "metadata": {},
     "output_type": "execute_result"
    }
   ],
   "source": [
    "S = np.diag(s)\n",
    "S"
   ]
  },
  {
   "cell_type": "markdown",
   "metadata": {
    "id": "efXGNZqD2-XD"
   },
   "source": [
    "Reconstruct the matrix $A$"
   ]
  },
  {
   "cell_type": "code",
   "execution_count": 10,
   "metadata": {
    "id": "RVDQYJNJd6ot"
   },
   "outputs": [
    {
     "name": "stdout",
     "output_type": "stream",
     "text": [
      "err: 4.624308861561109e-16\n"
     ]
    }
   ],
   "source": [
    "A_svd = np.matmul(U, np.matmul(S,VT))\n",
    "print(f\"err: {la.norm(A - A_svd) / la.norm(A)}\")"
   ]
  },
  {
   "cell_type": "markdown",
   "metadata": {},
   "source": [
    "### A note on vectorization\n",
    "Vectorization refers to the practice of replacing explicit loops with high-level mathematical operations that act on entire arrays or matrices at once. This leads to much better performance because it replaces slow Python loops with fast, optimized C and Fortran operations.\n",
    "\n",
    "Indeed, we could be inclined to reconstruct $A_k$ with a for loop and the explicit formula\n",
    "$$A_k = \\sigma_1 u_1 v_1^T + ... + \\sigma_k u_k v_k^T.$$\n",
    "\n",
    "Let's measure the time taken for this operation for a matrix $A$ that is a bit larger"
   ]
  },
  {
   "cell_type": "code",
   "execution_count": 23,
   "metadata": {},
   "outputs": [],
   "source": [
    "import time\n",
    "\n",
    "A = np.random.rand(500, 400)\n",
    "U, s, VT = la.svd(A, full_matrices=False)\n",
    "S = np.diag(s)\n"
   ]
  },
  {
   "cell_type": "markdown",
   "metadata": {},
   "source": [
    "Time the reconstruction with a for loop"
   ]
  },
  {
   "cell_type": "code",
   "execution_count": 24,
   "metadata": {},
   "outputs": [],
   "source": [
    "start_time = time.time()\n",
    "\n",
    "A_reconstructed_loop = np.zeros_like(A)  # Initialize a matrix of zeros\n",
    "for i in range(len(S)):\n",
    "    A_reconstructed_loop += s[i] * np.outer(U[:, i], VT[i, :])\n",
    "\n",
    "loop_time = time.time() - start_time"
   ]
  },
  {
   "cell_type": "markdown",
   "metadata": {},
   "source": [
    "Time the vectorized reconstruction using matrix multiplication"
   ]
  },
  {
   "cell_type": "code",
   "execution_count": 25,
   "metadata": {},
   "outputs": [],
   "source": [
    "start_time = time.time()\n",
    "\n",
    "# here we are using broadcasting to avoid the creation of a diagonal matrix\n",
    "# see: https://numpy.org/doc/stable/user/basics.broadcasting.html\n",
    "A_reconstructed_vectorized = (U * s) @ VT\n",
    "\n",
    "vectorized_time = time.time() - start_time"
   ]
  },
  {
   "cell_type": "markdown",
   "metadata": {},
   "source": [
    "We compare the results"
   ]
  },
  {
   "cell_type": "code",
   "execution_count": 26,
   "metadata": {},
   "outputs": [
    {
     "name": "stdout",
     "output_type": "stream",
     "text": [
      "Time for reconstruction using for loop: 0.073372 seconds\n",
      "Time for vectorized reconstruction: 0.001937 seconds\n",
      "Vectorized is 37.9 times faster than the loop\n",
      "Difference between the two reconstructions: 2.553513e-15\n"
     ]
    }
   ],
   "source": [
    "print(f\"Time for reconstruction using for loop: {loop_time:.6f} seconds\")\n",
    "print(f\"Time for vectorized reconstruction: {vectorized_time:.6f} seconds\")\n",
    "print(f\"Vectorized is {loop_time / vectorized_time:.1f} times faster than the loop\")\n",
    "\n",
    "difference = np.abs(A_reconstructed_loop - A_reconstructed_vectorized).max()\n",
    "print(f\"Difference between the two reconstructions: {difference:.6e}\")"
   ]
  }
 ],
 "metadata": {
  "colab": {
   "authorship_tag": "ABX9TyPGpgzn/OLfzMVbm125sj7o",
   "name": "basics_svd.ipynb",
   "provenance": []
  },
  "kernelspec": {
   "display_name": "Python 3 (ipykernel)",
   "language": "python",
   "name": "python3"
  },
  "language_info": {
   "codemirror_mode": {
    "name": "ipython",
    "version": 3
   },
   "file_extension": ".py",
   "mimetype": "text/x-python",
   "name": "python",
   "nbconvert_exporter": "python",
   "pygments_lexer": "ipython3",
   "version": "3.11.6"
  }
 },
 "nbformat": 4,
 "nbformat_minor": 1
}
