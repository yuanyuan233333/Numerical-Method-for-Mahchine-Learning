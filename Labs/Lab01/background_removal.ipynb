{
  "cells": [
    {
      "cell_type": "markdown",
      "metadata": {
        "id": "VpE5DLFYeZMa"
      },
      "source": [
        "# Background Removal\n",
        "We aim to remove the background from a video and be able to select only the moving parts using SVD.\n",
        "\n",
        "We use as benchmark the real video 003 dataset from BMC 2012 [Background Models Challenge Dataset](http://backgroundmodelschallenge.eu/)"
      ]
    },
    {
      "cell_type": "code",
      "execution_count": null,
      "metadata": {
        "colab": {
          "base_uri": "https://localhost:8080/"
        },
        "id": "RQc2fIelXQcJ",
        "outputId": "a87db8a3-5297-4473-fa46-bb527cefd0d1"
      },
      "outputs": [],
      "source": [
        "!wget http://backgroundmodelschallenge.eu/data/real/Video_003.zip\n",
        "!unzip Video_003.zip"
      ]
    },
    {
      "cell_type": "markdown",
      "metadata": {
        "id": "8cDGlleqe3T0"
      },
      "source": [
        "Import needed libraries:"
      ]
    },
    {
      "cell_type": "code",
      "execution_count": 1,
      "metadata": {
        "id": "k7bgTuu0YD9X"
      },
      "outputs": [],
      "source": [
        "import moviepy.editor as mpe\n",
        "import numpy as np\n",
        "import skimage.transform\n",
        "\n",
        "%matplotlib inline\n",
        "import matplotlib.pyplot as plt"
      ]
    },
    {
      "cell_type": "markdown",
      "metadata": {
        "id": "srjW6UV8e6s3"
      },
      "source": [
        "Load the video and check its duration"
      ]
    },
    {
      "cell_type": "code",
      "execution_count": null,
      "metadata": {
        "colab": {
          "base_uri": "https://localhost:8080/"
        },
        "id": "tfop4OO9Ygd9",
        "outputId": "af1a0c1b-5ea8-411d-e304-c3218e005546"
      },
      "outputs": [],
      "source": [
        "video = mpe.VideoFileClip(\"Video_003/Video_003.avi\")\n",
        "video.duration"
      ]
    },
    {
      "cell_type": "markdown",
      "metadata": {
        "id": "YjBHP8Z9e9bD"
      },
      "source": [
        "Let us visualize the video, and actually check its contents"
      ]
    },
    {
      "cell_type": "code",
      "execution_count": null,
      "metadata": {
        "colab": {
          "base_uri": "https://localhost:8080/",
          "height": 332
        },
        "id": "Ee0V2F0rY_ZO",
        "outputId": "5c61aec4-b09a-4f1b-997a-94f42d113fb7"
      },
      "outputs": [],
      "source": [
        "video.subclip(0, 5).ipython_display(width=300)"
      ]
    },
    {
      "cell_type": "markdown",
      "metadata": {
        "id": "GNvQOnNBfGyD"
      },
      "source": [
        "### Helper Methods\n",
        "In order to work with the video, we need to implement a couple of helper methods:\n",
        "- a method to tranform a color image into a gray image (SVD works with 2D matrices, thus, for sake of simplicity, we avoid repeating the same operations to each channel of the image by using a gray-scale image)\n",
        "- a method to transform the video into a numpy matrix, we also downscale the video to reduce the computational cost of applying the SVD. We can unroll a frame into a single tall column. So instead of having a 2D picture, we have a column. This isn't very human-readable, but it's handy because it lets us stack the images from different times on top of one another, to put a video all into 1 matrix."
      ]
    },
    {
      "cell_type": "code",
      "execution_count": 9,
      "metadata": {
        "id": "AUBvFbBrZEqW"
      },
      "outputs": [],
      "source": [
        "def create_data_matrix_from_video(clip, dims):\n",
        "    number_of_frames = int(clip.fps * clip.duration)\n",
        "    flatten_gray_frames = []\n",
        "    for i in range(number_of_frames):\n",
        "        # get_frame takes as input the time of the frame\n",
        "        frame = clip.get_frame(i / clip.fps)\n",
        "        # to gray scale\n",
        "        gray_frame = np.mean(frame[..., :3], axis=-1).astype(int)\n",
        "        # resize to reduce computational cost\n",
        "        small_gray_frame = skimage.transform.resize(gray_frame, dims)\n",
        "        # each frame becomes a column vector of A\n",
        "        flatten_gray_frames.append(small_gray_frame.flatten())\n",
        "    return np.vstack(flatten_gray_frames).T"
      ]
    },
    {
      "cell_type": "markdown",
      "metadata": {
        "id": "p_WaVS6afvia"
      },
      "source": [
        "We set some parameters and create the matrix\n",
        "\n"
      ]
    },
    {
      "cell_type": "code",
      "execution_count": null,
      "metadata": {
        "colab": {
          "base_uri": "https://localhost:8080/"
        },
        "id": "b86wX9IAZQk9",
        "outputId": "d55fdc2d-86ba-4551-888f-52bf184ae31d"
      },
      "outputs": [],
      "source": [
        "scale = 0.50   # Adjust scale to change resolution of image\n",
        "width, height = video.size\n",
        "dims = (int(height * scale), int(width * scale))\n",
        "A = create_data_matrix_from_video(video, dims)\n",
        "print(\"frame size:\", dims)\n",
        "print(\"video matrix size:\", A.shape)"
      ]
    },
    {
      "cell_type": "markdown",
      "metadata": {
        "id": "3KgaQSaJgqPC"
      },
      "source": [
        "Let's visualize the 140-th frame of the video (rescaled and decolored)"
      ]
    },
    {
      "cell_type": "code",
      "execution_count": null,
      "metadata": {
        "colab": {
          "base_uri": "https://localhost:8080/",
          "height": 434
        },
        "id": "hat8aO7oant3",
        "outputId": "0f2bab4f-a569-4096-b199-ccfce0412b20"
      },
      "outputs": [],
      "source": [
        "plt.imshow(np.reshape(A[:,140], dims), cmap='gray');"
      ]
    },
    {
      "cell_type": "markdown",
      "metadata": {
        "id": "AgGvakiEg6jg"
      },
      "source": [
        "What does the matrix A look like instead?"
      ]
    },
    {
      "cell_type": "code",
      "execution_count": null,
      "metadata": {
        "colab": {
          "base_uri": "https://localhost:8080/",
          "height": 545
        },
        "id": "AbJbRFwRjtWs",
        "outputId": "05336065-206c-4025-c983-958d2f981802"
      },
      "outputs": [],
      "source": [
        "plt.figure(figsize=(12, 6))\n",
        "plt.imshow(A, cmap='gray', aspect='auto')"
      ]
    },
    {
      "cell_type": "markdown",
      "metadata": {
        "id": "tmj1gICohfFc"
      },
      "source": [
        "\n",
        "**Questions**: What are those wavy black lines? What are the horizontal lines?\n"
      ]
    },
    {
      "cell_type": "markdown",
      "metadata": {
        "id": "LwCtl_N4hgcc"
      },
      "source": [
        "## Apply the SVD\n",
        "We apply the SVD to our matrix $A$"
      ]
    },
    {
      "cell_type": "code",
      "execution_count": null,
      "metadata": {
        "colab": {
          "base_uri": "https://localhost:8080/"
        },
        "id": "bpNNQds5l4Hj",
        "outputId": "c72b8acd-aa2b-4d3b-bbb8-97423be34ba2"
      },
      "outputs": [],
      "source": [
        "# fill here"
      ]
    },
    {
      "cell_type": "markdown",
      "metadata": {
        "id": "2zw43wQPhxzP"
      },
      "source": [
        "\n",
        "Check that they are a decomposition of A"
      ]
    },
    {
      "cell_type": "code",
      "execution_count": null,
      "metadata": {
        "colab": {
          "base_uri": "https://localhost:8080/"
        },
        "id": "83CsjP3ymC5k",
        "outputId": "6fb47e20-880a-4842-8cc9-82dd64f8e07c"
      },
      "outputs": [],
      "source": [
        "# fill here"
      ]
    },
    {
      "cell_type": "markdown",
      "metadata": {
        "id": "n5eQq4hkh1jP"
      },
      "source": [
        "Since the background is more or less constant during the video (the horizontal lines of A), we suppose that the background can be reconstructed using few (try 1 or 2) singular values"
      ]
    },
    {
      "cell_type": "code",
      "execution_count": null,
      "metadata": {
        "colab": {
          "base_uri": "https://localhost:8080/",
          "height": 545
        },
        "id": "qwtHPgSKmern",
        "outputId": "7b9641cf-8bf6-45cb-85cb-fc02901961c9"
      },
      "outputs": [],
      "source": [
        "# fill here"
      ]
    },
    {
      "cell_type": "markdown",
      "metadata": {
        "id": "rDag9xleiUIK"
      },
      "source": [
        "The SVD has done all the heavy liflting!\n",
        "Now we \"just\" have to visualize the results in a human comprehensible way.\n",
        "\n",
        "\n",
        "Let's visualize the original video, the background and the foreground at some fixed instances in time."
      ]
    },
    {
      "cell_type": "code",
      "execution_count": null,
      "metadata": {
        "colab": {
          "base_uri": "https://localhost:8080/",
          "height": 1000
        },
        "id": "8oqmXuWUm1Fg",
        "outputId": "8c420a8f-14be-435b-907b-f2f365971de2"
      },
      "outputs": [],
      "source": [
        "def plot_frames(A, background, time_ids):\n",
        "  fig, axs = plt.subplots(len(time_ids), 3, figsize=(12, 4 * len(time_ids)))\n",
        "  for i, t_id in enumerate(time_ids):\n",
        "    axs[i, 0].imshow(np.reshape(A[:, t_id], dims), cmap='gray')\n",
        "    axs[i, 1].imshow(np.reshape(background[:, t_id], dims), cmap='gray')\n",
        "    axs[i, 2].imshow(np.reshape(A[:, t_id] - background[:, t_id], dims), cmap='gray')\n",
        "\n",
        "    axs[i, 0].set_ylabel(f\"Frame {t_id}\")\n",
        "\n",
        "    if i == 0:\n",
        "      axs[0, 0].set_title(\"Original video\")\n",
        "      axs[0, 1].set_title(\"Background\")\n",
        "      axs[0, 2].set_title(\"Foreground\")\n",
        "\n",
        "time_ids = [0, 150, 300, 450]\n",
        "plot_frames(A, background, time_ids)\n"
      ]
    },
    {
      "cell_type": "markdown",
      "metadata": {
        "id": "JHypX9Vci0mj"
      },
      "source": [
        "What are the downsides?\n",
        "\n",
        "SVD was really slow (remember that we also compressed our frames to reduce the computational cost). Moreover, we threw away a lot of our calculation, we used just one singular value.\n",
        "\n"
      ]
    }
  ],
  "metadata": {
    "colab": {
      "provenance": []
    },
    "kernelspec": {
      "display_name": "Python 3",
      "name": "python3"
    },
    "language_info": {
      "codemirror_mode": {
        "name": "ipython",
        "version": 3
      },
      "file_extension": ".py",
      "mimetype": "text/x-python",
      "name": "python",
      "nbconvert_exporter": "python",
      "pygments_lexer": "ipython3",
      "version": "3.11.6"
    }
  },
  "nbformat": 4,
  "nbformat_minor": 0
}
