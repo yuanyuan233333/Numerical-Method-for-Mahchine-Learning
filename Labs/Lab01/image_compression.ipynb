{
 "cells": [
  {
   "cell_type": "markdown",
   "metadata": {
    "id": "6LZ15hUkY9Y-"
   },
   "source": [
    "# Image compression through Singular Value Decomposition"
   ]
  },
  {
   "cell_type": "markdown",
   "metadata": {
    "id": "5IvP0hGtUPc8"
   },
   "source": [
    "Load a picture as a 3-dimensional `np.array`"
   ]
  },
  {
   "cell_type": "code",
   "execution_count": null,
   "metadata": {
    "id": "5XJeceS3S6B_"
   },
   "outputs": [],
   "source": [
    "from matplotlib.image import imread\n",
    "import matplotlib.pyplot as plt\n",
    "import numpy as np\n",
    "\n",
    "plt.rcParams['figure.figsize'] = [8, 8]\n",
    "\n",
    "# write here the import path of the image\n",
    "#image_path = '...'\n",
    "\n",
    "A = imread(image_path)"
   ]
  },
  {
   "cell_type": "markdown",
   "metadata": {
    "id": "MTOBvcyrZqfN"
   },
   "source": [
    "Visualize the picture"
   ]
  },
  {
   "cell_type": "code",
   "execution_count": null,
   "metadata": {
    "id": "g1cNkXpcZtQM"
   },
   "outputs": [],
   "source": [
    "img = plt.imshow(A)\n",
    "plt.axis('off')"
   ]
  },
  {
   "cell_type": "markdown",
   "metadata": {
    "id": "wPu7sxbdZyh2"
   },
   "source": [
    "Convert the picture to gray-scale and visualize it."
   ]
  },
  {
   "cell_type": "code",
   "execution_count": null,
   "metadata": {},
   "outputs": [],
   "source": [
    "# fill here"
   ]
  },
  {
   "cell_type": "markdown",
   "metadata": {
    "id": "x5XyXGXTaAnq"
   },
   "source": [
    "What is the picture size?"
   ]
  },
  {
   "cell_type": "code",
   "execution_count": null,
   "metadata": {},
   "outputs": [],
   "source": [
    "# fill here"
   ]
  },
  {
   "cell_type": "markdown",
   "metadata": {
    "id": "_PUZf7P3UdJE"
   },
   "source": [
    "Perform the SVD decomposition"
   ]
  },
  {
   "cell_type": "code",
   "execution_count": null,
   "metadata": {},
   "outputs": [],
   "source": [
    "# fill here"
   ]
  },
  {
   "cell_type": "markdown",
   "metadata": {
    "id": "4X254R-aUgkc"
   },
   "source": [
    "Plot the trend of\n",
    "- the singular values $\\sigma_k$\n",
    "- the cumulate fraction of singular values: $\\frac{\\sum_{i=1}^{k} \\sigma_i}{\\sum_{i=1}^{q} \\sigma_i}$\n",
    "- the fraction of the \"explained variance\": $\\frac{\\sum_{i=1}^{k} \\sigma_i^2}{\\sum_{i=1}^{q} \\sigma_i^2}$"
   ]
  },
  {
   "cell_type": "code",
   "execution_count": null,
   "metadata": {},
   "outputs": [],
   "source": [
    "# fill here"
   ]
  },
  {
   "cell_type": "markdown",
   "metadata": {
    "id": "HgQ3FyzYVSnM"
   },
   "source": [
    "Visualize the best rank-$k$ matrices, for $k$ = 1, 5, 10, 50, 100, 500"
   ]
  },
  {
   "cell_type": "code",
   "execution_count": null,
   "metadata": {},
   "outputs": [],
   "source": [
    "# fill here"
   ]
  },
  {
   "cell_type": "markdown",
   "metadata": {
    "id": "s_hMe7jGWgSl"
   },
   "source": [
    "Visualize the $k$-th rank-1 matix, for $k$ = 1,2,...,6"
   ]
  },
  {
   "cell_type": "code",
   "execution_count": null,
   "metadata": {},
   "outputs": [],
   "source": [
    "# fill here"
   ]
  }
 ],
 "metadata": {
  "colab": {
   "authorship_tag": "ABX9TyNIzcXnmb04NA/RlNPsWzQF",
   "collapsed_sections": [],
   "mount_file_id": "1W1RQAZW1N2z73eDs9yXFsG2LngOpuk28",
   "provenance": []
  },
  "kernelspec": {
   "display_name": "Python 3 (ipykernel)",
   "language": "python",
   "name": "python3"
  },
  "language_info": {
   "codemirror_mode": {
    "name": "ipython",
    "version": 3
   },
   "file_extension": ".py",
   "mimetype": "text/x-python",
   "name": "python",
   "nbconvert_exporter": "python",
   "pygments_lexer": "ipython3",
   "version": "3.9.13"
  }
 },
 "nbformat": 4,
 "nbformat_minor": 1
}
